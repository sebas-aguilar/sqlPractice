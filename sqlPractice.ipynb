{
 "cells": [
  {
   "cell_type": "code",
   "execution_count": 1,
   "metadata": {},
   "outputs": [
    {
     "data": {
      "text/html": [
       "<div>\n",
       "<style scoped>\n",
       "    .dataframe tbody tr th:only-of-type {\n",
       "        vertical-align: middle;\n",
       "    }\n",
       "\n",
       "    .dataframe tbody tr th {\n",
       "        vertical-align: top;\n",
       "    }\n",
       "\n",
       "    .dataframe thead th {\n",
       "        text-align: right;\n",
       "    }\n",
       "</style>\n",
       "<table border=\"1\" class=\"dataframe\">\n",
       "  <thead>\n",
       "    <tr style=\"text-align: right;\">\n",
       "      <th></th>\n",
       "      <th>Run</th>\n",
       "      <th>Angle</th>\n",
       "      <th>Detector</th>\n",
       "      <th>Ep</th>\n",
       "      <th>Q int</th>\n",
       "      <th>Yield</th>\n",
       "      <th>Yield effcor</th>\n",
       "      <th>Yield err</th>\n",
       "      <th>Yield err effcor</th>\n",
       "    </tr>\n",
       "  </thead>\n",
       "  <tbody>\n",
       "    <tr>\n",
       "      <th>0</th>\n",
       "      <td>97</td>\n",
       "      <td>120</td>\n",
       "      <td>0</td>\n",
       "      <td>2499.3</td>\n",
       "      <td>1140000.0</td>\n",
       "      <td>0.000574</td>\n",
       "      <td>3.050882e-11</td>\n",
       "      <td>0.000044</td>\n",
       "      <td>2.358194e-12</td>\n",
       "    </tr>\n",
       "    <tr>\n",
       "      <th>1</th>\n",
       "      <td>97</td>\n",
       "      <td>105</td>\n",
       "      <td>1</td>\n",
       "      <td>2499.3</td>\n",
       "      <td>1140000.0</td>\n",
       "      <td>0.000581</td>\n",
       "      <td>3.273932e-11</td>\n",
       "      <td>0.000053</td>\n",
       "      <td>2.962391e-12</td>\n",
       "    </tr>\n",
       "    <tr>\n",
       "      <th>2</th>\n",
       "      <td>97</td>\n",
       "      <td>90</td>\n",
       "      <td>2</td>\n",
       "      <td>2499.3</td>\n",
       "      <td>1140000.0</td>\n",
       "      <td>0.000308</td>\n",
       "      <td>2.942379e-11</td>\n",
       "      <td>0.000045</td>\n",
       "      <td>4.336213e-12</td>\n",
       "    </tr>\n",
       "    <tr>\n",
       "      <th>3</th>\n",
       "      <td>97</td>\n",
       "      <td>45</td>\n",
       "      <td>3</td>\n",
       "      <td>2499.3</td>\n",
       "      <td>1140000.0</td>\n",
       "      <td>0.000651</td>\n",
       "      <td>3.722398e-11</td>\n",
       "      <td>0.000061</td>\n",
       "      <td>3.500768e-12</td>\n",
       "    </tr>\n",
       "    <tr>\n",
       "      <th>4</th>\n",
       "      <td>97</td>\n",
       "      <td>30</td>\n",
       "      <td>4</td>\n",
       "      <td>2499.3</td>\n",
       "      <td>1140000.0</td>\n",
       "      <td>0.000627</td>\n",
       "      <td>3.469573e-11</td>\n",
       "      <td>0.000059</td>\n",
       "      <td>3.263903e-12</td>\n",
       "    </tr>\n",
       "  </tbody>\n",
       "</table>\n",
       "</div>"
      ],
      "text/plain": [
       "   Run  Angle  Detector      Ep      Q int     Yield  Yield effcor  Yield err  \\\n",
       "0   97    120         0  2499.3  1140000.0  0.000574  3.050882e-11   0.000044   \n",
       "1   97    105         1  2499.3  1140000.0  0.000581  3.273932e-11   0.000053   \n",
       "2   97     90         2  2499.3  1140000.0  0.000308  2.942379e-11   0.000045   \n",
       "3   97     45         3  2499.3  1140000.0  0.000651  3.722398e-11   0.000061   \n",
       "4   97     30         4  2499.3  1140000.0  0.000627  3.469573e-11   0.000059   \n",
       "\n",
       "   Yield err effcor  \n",
       "0      2.358194e-12  \n",
       "1      2.962391e-12  \n",
       "2      4.336213e-12  \n",
       "3      3.500768e-12  \n",
       "4      3.263903e-12  "
      ]
     },
     "execution_count": 1,
     "metadata": {},
     "output_type": "execute_result"
    }
   ],
   "source": [
    "import pandas as pd\n",
    "\n",
    "# Read data into DataFrame\n",
    "df = pd.read_csv('data/a1Yields.csv')\n",
    "\n",
    "df.head()"
   ]
  },
  {
   "cell_type": "markdown",
   "metadata": {},
   "source": [
    "# Create sql database manually using 'pandas'"
   ]
  },
  {
   "cell_type": "code",
   "execution_count": 2,
   "metadata": {},
   "outputs": [
    {
     "data": {
      "text/plain": [
       "'1.3.13'"
      ]
     },
     "execution_count": 2,
     "metadata": {},
     "output_type": "execute_result"
    }
   ],
   "source": [
    "import sqlalchemy\n",
    "sqlalchemy.__version__ "
   ]
  },
  {
   "cell_type": "code",
   "execution_count": 3,
   "metadata": {},
   "outputs": [
    {
     "name": "stdout",
     "output_type": "stream",
     "text": [
      "2020-03-05 01:17:28,314 INFO sqlalchemy.engine.base.Engine SELECT CAST('test plain returns' AS VARCHAR(60)) AS anon_1\n",
      "2020-03-05 01:17:28,317 INFO sqlalchemy.engine.base.Engine ()\n",
      "2020-03-05 01:17:28,318 INFO sqlalchemy.engine.base.Engine SELECT CAST('test unicode returns' AS VARCHAR(60)) AS anon_1\n",
      "2020-03-05 01:17:28,319 INFO sqlalchemy.engine.base.Engine ()\n",
      "2020-03-05 01:17:28,320 INFO sqlalchemy.engine.base.Engine PRAGMA main.table_info(\"a1\")\n",
      "2020-03-05 01:17:28,321 INFO sqlalchemy.engine.base.Engine ()\n",
      "2020-03-05 01:17:28,322 INFO sqlalchemy.engine.base.Engine PRAGMA temp.table_info(\"a1\")\n",
      "2020-03-05 01:17:28,322 INFO sqlalchemy.engine.base.Engine ()\n",
      "2020-03-05 01:17:28,325 INFO sqlalchemy.engine.base.Engine \n",
      "CREATE TABLE a1 (\n",
      "\t\"index\" BIGINT, \n",
      "\t\"Run\" BIGINT, \n",
      "\t\"Angle\" BIGINT, \n",
      "\t\"Detector\" BIGINT, \n",
      "\t\"Ep\" FLOAT, \n",
      "\t\"Q int\" FLOAT, \n",
      "\t\"Yield\" FLOAT, \n",
      "\t\"Yield effcor\" FLOAT, \n",
      "\t\"Yield err\" FLOAT, \n",
      "\t\"Yield err effcor\" FLOAT\n",
      ")\n",
      "\n",
      "\n",
      "2020-03-05 01:17:28,325 INFO sqlalchemy.engine.base.Engine ()\n",
      "2020-03-05 01:17:28,348 INFO sqlalchemy.engine.base.Engine COMMIT\n",
      "2020-03-05 01:17:28,349 INFO sqlalchemy.engine.base.Engine CREATE INDEX ix_a1_index ON a1 (\"index\")\n",
      "2020-03-05 01:17:28,350 INFO sqlalchemy.engine.base.Engine ()\n",
      "2020-03-05 01:17:28,363 INFO sqlalchemy.engine.base.Engine COMMIT\n",
      "2020-03-05 01:17:28,370 INFO sqlalchemy.engine.base.Engine BEGIN (implicit)\n",
      "2020-03-05 01:17:28,458 INFO sqlalchemy.engine.base.Engine INSERT INTO a1 (\"index\", \"Run\", \"Angle\", \"Detector\", \"Ep\", \"Q int\", \"Yield\", \"Yield effcor\", \"Yield err\", \"Yield err effcor\") VALUES (?, ?, ?, ?, ?, ?, ?, ?, ?, ?)\n",
      "2020-03-05 01:17:28,459 INFO sqlalchemy.engine.base.Engine ((0, 97, 120, 0, 2499.3, 1140000.0, 0.0005744190000000001, 3.050881567640499e-11, 4.44e-05, 2.35819395951802e-12), (1, 97, 105, 1, 2499.3, 1140000.0, 0.0005813169999999999, 3.273931968860119e-11, 5.260000000000001e-05, 2.9623909426705622e-12), (2, 97, 90, 2, 2499.3, 1140000.0, 0.000308066, 2.942378714934269e-11, 4.54e-05, 4.336213462635143e-12), (3, 97, 45, 3, 2499.3, 1140000.0, 0.000650745, 3.7223979790045365e-11, 6.12e-05, 3.5007684471655963e-12), (4, 97, 30, 4, 2499.3, 1140000.0, 0.000627178, 3.4695728929745706e-11, 5.9e-05, 3.263902762620813e-12), (5, 97, 15, 5, 2499.3, 1140000.0, 0.000559815, 2.978144271403485e-11, 5.44e-05, 2.8940104921152453e-12), (6, 97, 0, 6, 2499.3, 1140000.0, 0.000725849, 4.001728707244253e-11, 6.330000000000001e-05, 3.4898364145788066e-12), (7, 97, -15, 7, 2499.3, 1140000.0, 0.000639938, 3.493654393307925e-11, 6.51e-05, 3.55404587638718e-12)  ... displaying 10 of 11734 total bound parameter sets ...  (11732, 2055, -105, 11, 3183.4, 146618.0, 0.01823749839773197, 1.0527321978340977e-09, 0.0003233063880647542, 1.8662375565913094e-11), (11733, 2055, -120, 12, 3183.4, 146618.0, 0.02309623930687659, 1.26295567158378e-09, 0.0004139553822636444, 2.2636035714127836e-11))\n",
      "2020-03-05 01:17:28,493 INFO sqlalchemy.engine.base.Engine COMMIT\n"
     ]
    }
   ],
   "source": [
    "from sqlalchemy import create_engine\n",
    "\n",
    "# Create SQLite database (relative path)\n",
    "engine = create_engine('sqlite:///sqlalchemy_yields.db', echo=True)\n",
    "\n",
    "# Raise exception if it exists\n",
    "# df.to_sql('a1', con=engine, if_exists='fail', index=True)\n",
    "\n",
    "# Drops existing table before inserting new values\n",
    "df.to_sql('a1', con=engine, if_exists='replace', index=True)"
   ]
  },
  {
   "cell_type": "code",
   "execution_count": null,
   "metadata": {},
   "outputs": [],
   "source": []
  },
  {
   "cell_type": "markdown",
   "metadata": {},
   "source": [
    "# Create sql database manually using 'sqlite3'\n",
    "\n",
    "https://docs.python.org/3.8/library/sqlite3.html"
   ]
  },
  {
   "cell_type": "code",
   "execution_count": 4,
   "metadata": {},
   "outputs": [
    {
     "name": "stdout",
     "output_type": "stream",
     "text": [
      "2.6.0\n"
     ]
    }
   ],
   "source": [
    "import sqlite3\n",
    "print(sqlite3.version)\n",
    "\n",
    "# Create connection object (represent database)\n",
    "conn = sqlite3.connect('sqlite_yields.db')\n",
    "\n",
    "# Create cursor object\n",
    "cur = conn.cursor()"
   ]
  },
  {
   "cell_type": "code",
   "execution_count": 5,
   "metadata": {},
   "outputs": [
    {
     "data": {
      "text/plain": [
       "<sqlite3.Cursor at 0x190a8755d50>"
      ]
     },
     "execution_count": 5,
     "metadata": {},
     "output_type": "execute_result"
    }
   ],
   "source": [
    "# Drop table\n",
    "# cur.execute('''DROP TABLE a1''')\n",
    "\n",
    "# Create table\n",
    "cur.execute('''CREATE TABLE a1 \n",
    "            (Run INTEGER, Angle INTEGER, Detector INTEGER, \n",
    "            Ep REAL, Q_int INTEGER, Yield REAL, \n",
    "            Yield_effcor REAL, Yield_err REAL, Yield_err_effcor REAL)''')"
   ]
  },
  {
   "cell_type": "markdown",
   "metadata": {},
   "source": [
    "### Use execute to insert single values/row and use executemany for multiple values/rows"
   ]
  },
  {
   "cell_type": "code",
   "execution_count": 6,
   "metadata": {},
   "outputs": [
    {
     "name": "stdout",
     "output_type": "stream",
     "text": [
      "Columns in SQL database: ['Run', 'Angle', 'Detector', 'Ep', 'Q_int', 'Yield', 'Yield_effcor', 'Yield_err', 'Yield_err_effcor']\n"
     ]
    }
   ],
   "source": [
    "column_names = []\n",
    "for names in cur.execute(\"SELECT * FROM a1\").description:\n",
    "    column_names.append(names[0])\n",
    "print(\"Columns in SQL database:\",column_names)\n",
    "\n",
    "\n",
    "# Insert values stored in DataFrame into the database\n",
    "# iterrows() returns iterable (tuple of row_index,row_values)\n",
    "cur.executemany(\"INSERT INTO a1 (Run,Angle,Detector,Ep,Q_int,Yield,Yield_effcor,Yield_err,Yield_err_effcor) VALUES (?,?,?,?,?,?,?,?,?)\", [(x[1]) for x in df.iterrows()] )\n",
    "\n",
    "\n",
    "\n",
    "# Store values of an array/series object into database\n",
    "# HUGE WARNING: subsequent executes start from last index (append to final row in database)\n",
    "# cur.executemany(\"INSERT INTO a1 (Angle) VALUES (?)\", [(x[1],) for x in df['Angle'].iteritems()] )\n",
    "\n",
    "\n",
    "# Save changes\n",
    "conn.commit()"
   ]
  },
  {
   "cell_type": "markdown",
   "metadata": {},
   "source": [
    "### Grab rows from database"
   ]
  },
  {
   "cell_type": "code",
   "execution_count": 7,
   "metadata": {},
   "outputs": [
    {
     "name": "stdout",
     "output_type": "stream",
     "text": [
      "(97, 120, 0, 2499.3, 1140000, 0.0005744190000000001, 3.050881567640499e-11, 4.44e-05, 2.35819395951802e-12)\n",
      "(97, 105, 1, 2499.3, 1140000, 0.0005813169999999999, 3.273931968860119e-11, 5.260000000000001e-05, 2.9623909426705622e-12)\n",
      "(97, 90, 2, 2499.3, 1140000, 0.000308066, 2.942378714934269e-11, 4.54e-05, 4.336213462635143e-12)\n",
      "(97, 45, 3, 2499.3, 1140000, 0.000650745, 3.7223979790045365e-11, 6.12e-05, 3.5007684471655963e-12)\n",
      "(97, 30, 4, 2499.3, 1140000, 0.000627178, 3.4695728929745706e-11, 5.9e-05, 3.263902762620813e-12)\n"
     ]
    }
   ],
   "source": [
    "cur.execute(\"SELECT * FROM a1\")\n",
    "\n",
    "# data = cur.fetchone()\n",
    "data = cur.fetchmany(5)\n",
    "# data = cur.fetchall()\n",
    "\n",
    "for row in data[:5]:\n",
    "    print(row)"
   ]
  },
  {
   "cell_type": "markdown",
   "metadata": {},
   "source": [
    "### Grab a column"
   ]
  },
  {
   "cell_type": "code",
   "execution_count": 8,
   "metadata": {},
   "outputs": [
    {
     "name": "stdout",
     "output_type": "stream",
     "text": [
      "['Run', 'Angle', 'Detector', 'Ep', 'Q_int', 'Yield', 'Yield_effcor', 'Yield_err', 'Yield_err_effcor'] \n",
      "\n",
      "\n",
      "120\n",
      "105\n",
      "90\n",
      "45\n",
      "30\n"
     ]
    }
   ],
   "source": [
    "conn.row_factory = sqlite3.Row\n",
    "\n",
    "cur = conn.cursor()\n",
    "cur.execute(\"SELECT * FROM a1\")\n",
    "\n",
    "# colData = cur.fetchone()\n",
    "colData = cur.fetchmany(5)\n",
    "# colData = cur.fetchall()\n",
    "\n",
    "print(colData[0].keys(),'\\n\\n')\n",
    "\n",
    "angleList = []\n",
    "for row in colData[:5]:\n",
    "    angleList.append(row['Angle'])\n",
    "    print(row['Angle'])"
   ]
  },
  {
   "cell_type": "markdown",
   "metadata": {},
   "source": [
    "### Alter values in a column"
   ]
  },
  {
   "cell_type": "code",
   "execution_count": null,
   "metadata": {},
   "outputs": [],
   "source": []
  },
  {
   "cell_type": "markdown",
   "metadata": {},
   "source": [
    "# Close out connections"
   ]
  },
  {
   "cell_type": "code",
   "execution_count": 9,
   "metadata": {},
   "outputs": [],
   "source": [
    "# cur.close()\n",
    "# conn.close()"
   ]
  }
 ],
 "metadata": {
  "kernelspec": {
   "display_name": "Python 3",
   "language": "python",
   "name": "python3"
  },
  "language_info": {
   "codemirror_mode": {
    "name": "ipython",
    "version": 3
   },
   "file_extension": ".py",
   "mimetype": "text/x-python",
   "name": "python",
   "nbconvert_exporter": "python",
   "pygments_lexer": "ipython3",
   "version": "3.7.6"
  }
 },
 "nbformat": 4,
 "nbformat_minor": 4
}
